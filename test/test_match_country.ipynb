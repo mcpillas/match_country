{
 "cells": [
  {
   "cell_type": "code",
   "execution_count": 54,
   "metadata": {},
   "outputs": [],
   "source": [
    "import requests\n",
    "# Global constants\n",
    "BASE = \"http://127.0.0.1:5000/\"\n",
    "STATUS_CODE = [200, 400, 404]\n",
    "MESSAGES = ['Country ISO code is not valid...',\n",
    "\t\t\t\"{'iso': 'Country ISO code required'}\",\n",
    "\t\t\t\"{'countries': 'Countries to compare with are required'}\"]"
   ]
  },
  {
   "cell_type": "code",
   "execution_count": 55,
   "metadata": {},
   "outputs": [],
   "source": [
    "# Valid requests\n",
    "req_1 = {\"iso\": \"svk\",\n",
    "\t     \"countries\": [\n",
    "             \"iran\",\n",
    "             \"Slowakei\",\n",
    "             \"Vatikan\",\n",
    "             \"Slovaška\",\n",
    "             \"Szlovákia\",\n",
    "             \"Belgrade\",\n",
    "             \"España\",\n",
    "             \"Nizozemsko\"\n",
    "\t        ]}\n",
    "\n",
    "req_2 = {\"iso\": \"ECU\",\n",
    "\t     \"countries\": [\n",
    "             \"조선\",\n",
    "             \"Slowakei\",\n",
    "             \"ඉක්වදෝරය\",\n",
    "             \"Vatikan\",\n",
    "             \"Slovaška\",\n",
    "             \"Szlovákia\",\n",
    "             \"에콰도르\",\n",
    "             \"España\",\n",
    "             \"South Korea\",\n",
    "             \"Ekvádor\"\n",
    "\t        ]}\n",
    "\n",
    "# No matches\n",
    "req_3 = {\"iso\": \"jpn\", \"countries\": [\"조선\"]}\n",
    "# Invalid requests\n",
    "# Empty ISO field\n",
    "req_4 = {\"iso\": [], \"countries\": [\"조선\"]}\n",
    "# Empty Countries field\n",
    "req_5 = {\"iso\": \"jpn\", \"countries\": []}\n",
    "# Empty ISO and Countries field\n",
    "req_6 = {\"iso\": [],\"countries\": []}\n",
    "# Invalid country ISO code\n",
    "req_7 = {\"iso\": \"jp\", \"countries\": [\"조선\"]}"
   ]
  },
  {
   "cell_type": "code",
   "execution_count": 56,
   "metadata": {},
   "outputs": [],
   "source": [
    "def compare_list(l1, l2):\n",
    "    status = True if l1.sort() == l2.sort() else False\n",
    "    return status"
   ]
  },
  {
   "cell_type": "code",
   "execution_count": 57,
   "metadata": {},
   "outputs": [],
   "source": [
    "# Test request 1\n",
    "response = requests.post(BASE + \"match_country\", req_1)\n",
    "assert(response.status_code == STATUS_CODE[0])\n",
    "assert(response.json()['iso'] == 'SVK')\n",
    "assert(response.json()['match_count'] == 3)\n",
    "assert(compare_list(response.json()['matches'],\n",
    "                    ['Slowakei', 'Slovaška', 'Szlovákia']))"
   ]
  },
  {
   "cell_type": "code",
   "execution_count": 58,
   "metadata": {},
   "outputs": [],
   "source": [
    "# Test request 2\n",
    "response = requests.post(BASE + \"match_country\", req_2)\n",
    "assert(response.status_code == STATUS_CODE[0])\n",
    "assert(response.json()['iso'] == 'ECU')\n",
    "assert(response.json()['match_count'] == 3)\n",
    "assert(compare_list(response.json()['matches'],\n",
    "                    ['ඉක්වදෝරය', '에콰도르', 'Ekvádor']))"
   ]
  },
  {
   "cell_type": "code",
   "execution_count": 59,
   "metadata": {},
   "outputs": [],
   "source": [
    "# Test request 3\n",
    "response = requests.post(BASE + \"match_country\", req_3)\n",
    "assert(response.status_code == STATUS_CODE[0])\n",
    "assert(response.json()['iso'] == 'JPN')\n",
    "assert(response.json()['match_count'] == 0)\n",
    "assert(len(response.json()['matches']) == 0)"
   ]
  },
  {
   "cell_type": "code",
   "execution_count": 60,
   "metadata": {},
   "outputs": [],
   "source": [
    "# Test request 4\n",
    "response = requests.post(BASE + \"match_country\", req_4)\n",
    "assert(response.status_code == STATUS_CODE[1])\n",
    "assert(str(response.json()['message']) == MESSAGES[1])\n",
    "# Test request 5\n",
    "response = requests.post(BASE + \"match_country\", req_5)\n",
    "assert(response.status_code == STATUS_CODE[1])\n",
    "assert(str(response.json()['message']) == MESSAGES[2])\n",
    "# Test request 6\n",
    "response = requests.post(BASE + \"match_country\", req_6)\n",
    "assert(response.status_code == STATUS_CODE[1])\n",
    "assert(str(response.json()['message']) == MESSAGES[1])\n",
    "# Test request 6\n",
    "response = requests.post(BASE + \"match_country\", req_7)\n",
    "assert(response.status_code == STATUS_CODE[2])\n",
    "assert(response.json()['message'] == MESSAGES[0])"
   ]
  }
 ],
 "metadata": {
  "interpreter": {
   "hash": "b151e2dcb6c6c19b18463e714036f4b46d1b00f472a05a391f98ea6302cba456"
  },
  "kernelspec": {
   "display_name": "Python 3.9.7 ('myenvrestapi')",
   "language": "python",
   "name": "python3"
  },
  "language_info": {
   "codemirror_mode": {
    "name": "ipython",
    "version": 3
   },
   "file_extension": ".py",
   "mimetype": "text/x-python",
   "name": "python",
   "nbconvert_exporter": "python",
   "pygments_lexer": "ipython3",
   "version": "3.9.7"
  },
  "orig_nbformat": 4
 },
 "nbformat": 4,
 "nbformat_minor": 2
}
